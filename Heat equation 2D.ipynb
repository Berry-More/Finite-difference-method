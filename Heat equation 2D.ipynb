{
 "cells": [
  {
   "cell_type": "code",
   "execution_count": 17,
   "id": "ae47d74f",
   "metadata": {},
   "outputs": [],
   "source": [
    "import time\n",
    "import numpy as np\n",
    "import plotly.graph_objects as go"
   ]
  },
  {
   "cell_type": "code",
   "execution_count": 18,
   "id": "e6ecfb6d",
   "metadata": {},
   "outputs": [
    {
     "name": "stdout",
     "output_type": "stream",
     "text": [
      "x0 = 0\n",
      "xm = 1\n",
      "m = 50\n",
      "h = 0.02\n",
      "---\n",
      "---\n",
      "---\n",
      "t0 = 0\n",
      "tn = 1\n",
      "n = 10000\n",
      "tay = 0.0001\n"
     ]
    }
   ],
   "source": [
    "D = 0.5\n",
    "\n",
    "x0 = 0\n",
    "xm = 1\n",
    "m = 50\n",
    "h = xm/m\n",
    "print('x0 =', x0)\n",
    "print('xm =', xm)\n",
    "print('m =', m)\n",
    "print('h =', h)\n",
    "\n",
    "print('---')\n",
    "print('---')\n",
    "print('---')\n",
    "\n",
    "t0 = 0\n",
    "tn = 1\n",
    "n = 10000\n",
    "tay = tn/n\n",
    "print('t0 =', t0)\n",
    "print('tn =', tn)\n",
    "print('n =', n)\n",
    "print('tay =', tay)"
   ]
  },
  {
   "cell_type": "code",
   "execution_count": 19,
   "id": "15c3ce53",
   "metadata": {},
   "outputs": [],
   "source": [
    "t_end = 0\n",
    "x = np.linspace(0, 1, m)\n",
    "ut0 = 1/np.abs(np.linspace(-m/30, m/30, m))\n",
    "ut0 = -(5*(x - 0.5))**2 + 10\n",
    "for i in range(len(ut0)):\n",
    "    if ut0[i] < 0:\n",
    "        ut0[i] = 0"
   ]
  },
  {
   "cell_type": "code",
   "execution_count": 20,
   "id": "32192d8a",
   "metadata": {},
   "outputs": [],
   "source": [
    "u = np.zeros((n, m))\n",
    "u[0] = ut0"
   ]
  },
  {
   "cell_type": "code",
   "execution_count": 21,
   "id": "83f7a2a0",
   "metadata": {},
   "outputs": [],
   "source": [
    "for j in range(n):\n",
    "    if j != 0:\n",
    "        for i in range(m):\n",
    "            if i != 0 and i != m-1:\n",
    "                u[j][i] = (tay*D/(h**2))*(u[j-1][i-1] - 2*u[j-1][i] + u[j-1][i+1]) + u[j-1][i]"
   ]
  },
  {
   "cell_type": "code",
   "execution_count": 22,
   "id": "9c6d2a49",
   "metadata": {},
   "outputs": [
    {
     "data": {
      "application/vnd.jupyter.widget-view+json": {
       "model_id": "d6f4cdb8fba446dfb41855d4ab68017b",
       "version_major": 2,
       "version_minor": 0
      },
      "text/plain": [
       "FigureWidget({\n",
       "    'data': [{'type': 'scatter', 'uid': '53f2c62a-a0d1-453b-a3e8-6390fcaf983e'}],\n",
       "    'layout':…"
      ]
     },
     "metadata": {},
     "output_type": "display_data"
    }
   ],
   "source": [
    "fig = go.FigureWidget()\n",
    "fig.add_scatter()\n",
    "\n",
    "fig.update_yaxes(range=[0, max(ut0) + 1])\n",
    "\n",
    "fig.update_layout(template='plotly_white',\n",
    "                  xaxis_title='Расстояние по профилю, м', \n",
    "                  yaxis_title='Градусы, С', width=700, height=500, font=dict(size=15))\n",
    "fig"
   ]
  },
  {
   "cell_type": "code",
   "execution_count": 23,
   "id": "69b60fda",
   "metadata": {},
   "outputs": [
    {
     "ename": "KeyboardInterrupt",
     "evalue": "",
     "output_type": "error",
     "traceback": [
      "\u001b[1;31m---------------------------------------------------------------------------\u001b[0m",
      "\u001b[1;31mKeyboardInterrupt\u001b[0m                         Traceback (most recent call last)",
      "\u001b[1;32m~\\AppData\\Local\\Temp/ipykernel_9876/922553125.py\u001b[0m in \u001b[0;36m<module>\u001b[1;34m\u001b[0m\n\u001b[0;32m      1\u001b[0m \u001b[1;32mfor\u001b[0m \u001b[0mi\u001b[0m \u001b[1;32min\u001b[0m \u001b[0mu\u001b[0m\u001b[1;33m:\u001b[0m\u001b[1;33m\u001b[0m\u001b[1;33m\u001b[0m\u001b[0m\n\u001b[1;32m----> 2\u001b[1;33m     \u001b[0mtime\u001b[0m\u001b[1;33m.\u001b[0m\u001b[0msleep\u001b[0m\u001b[1;33m(\u001b[0m\u001b[0mtay\u001b[0m\u001b[1;33m/\u001b[0m\u001b[1;36m1000\u001b[0m\u001b[1;33m)\u001b[0m\u001b[1;33m\u001b[0m\u001b[1;33m\u001b[0m\u001b[0m\n\u001b[0m\u001b[0;32m      3\u001b[0m     \u001b[0mfig\u001b[0m\u001b[1;33m.\u001b[0m\u001b[0mdata\u001b[0m\u001b[1;33m[\u001b[0m\u001b[1;36m0\u001b[0m\u001b[1;33m]\u001b[0m\u001b[1;33m.\u001b[0m\u001b[0my\u001b[0m \u001b[1;33m=\u001b[0m \u001b[0mi\u001b[0m\u001b[1;33m\u001b[0m\u001b[1;33m\u001b[0m\u001b[0m\n",
      "\u001b[1;31mKeyboardInterrupt\u001b[0m: "
     ]
    }
   ],
   "source": [
    "for i in u:\n",
    "    time.sleep(tay/1000)\n",
    "    fig.data[0].y = i"
   ]
  },
  {
   "cell_type": "code",
   "execution_count": 24,
   "id": "eb93d808",
   "metadata": {},
   "outputs": [],
   "source": [
    "u_5 = []\n",
    "for i in range(len(u)):\n",
    "    if i%5 == 0:\n",
    "        u_5.append(u[i])"
   ]
  },
  {
   "cell_type": "code",
   "execution_count": 25,
   "id": "a849ee2a",
   "metadata": {},
   "outputs": [
    {
     "data": {
      "application/vnd.jupyter.widget-view+json": {
       "model_id": "ca8f2c29dd1c4738b32a331dce91e9f4",
       "version_major": 2,
       "version_minor": 0
      },
      "text/plain": [
       "FigureWidget({\n",
       "    'data': [{'colorscale': [[0.0, '#440154'], [0.1111111111111111, '#482878'],\n",
       "               …"
      ]
     },
     "metadata": {},
     "output_type": "display_data"
    }
   ],
   "source": [
    "fig = go.FigureWidget()\n",
    "fig.add_trace(go.Heatmap(x=x, y=[0], z=[ut0], colorscale='viridis'))\n",
    "\n",
    "fig.update_layout(coloraxis_colorbar=dict(\n",
    "    tickvals=[1, 5, 10]),\n",
    "                  xaxis_title='X, [m]', \n",
    "                  yaxis_title='d, [m]', template='gridon', \n",
    "                  width=750, height=300)\n",
    "fig"
   ]
  },
  {
   "cell_type": "code",
   "execution_count": 26,
   "id": "603d4f0c",
   "metadata": {},
   "outputs": [],
   "source": [
    "for i in u_5:\n",
    "    time.sleep(tay/1000)\n",
    "    fig.data[0].z = [i]\n",
    "    fig.data[0].update(zmin=0, zmax=max(ut0))"
   ]
  },
  {
   "cell_type": "code",
   "execution_count": null,
   "id": "f9de97b3",
   "metadata": {},
   "outputs": [],
   "source": []
  }
 ],
 "metadata": {
  "kernelspec": {
   "display_name": "Python 3 (ipykernel)",
   "language": "python",
   "name": "python3"
  },
  "language_info": {
   "codemirror_mode": {
    "name": "ipython",
    "version": 3
   },
   "file_extension": ".py",
   "mimetype": "text/x-python",
   "name": "python",
   "nbconvert_exporter": "python",
   "pygments_lexer": "ipython3",
   "version": "3.7.3"
  }
 },
 "nbformat": 4,
 "nbformat_minor": 5
}
